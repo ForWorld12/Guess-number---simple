{
 "cells": [
  {
   "cell_type": "code",
   "execution_count": 2,
   "id": "68550bf5",
   "metadata": {},
   "outputs": [],
   "source": [
    "import random as rn"
   ]
  },
  {
   "cell_type": "code",
   "execution_count": null,
   "id": "e86b8150",
   "metadata": {},
   "outputs": [],
   "source": [
    "num=rn.randint(1,10)\n",
    "guess= None\n",
    "\n",
    "while guess != num:\n",
    "    guess= input(\"guess a number between 1 and 10\")\n",
    "    guess= int(guess)\n",
    "\n",
    "    if _name_ == \"_main_\":\n",
    "        print('congratulations! you won!')\n",
    "        break\n",
    "    else:\n",
    "        print(\"nope, sorry. Try Again!\")"
   ]
  },
  {
   "cell_type": "code",
   "execution_count": null,
   "id": "e375a958",
   "metadata": {},
   "outputs": [],
   "source": []
  }
 ],
 "metadata": {
  "kernelspec": {
   "display_name": "Python 3 (ipykernel)",
   "language": "python",
   "name": "python3"
  },
  "language_info": {
   "codemirror_mode": {
    "name": "ipython",
    "version": 3
   },
   "file_extension": ".py",
   "mimetype": "text/x-python",
   "name": "python",
   "nbconvert_exporter": "python",
   "pygments_lexer": "ipython3",
   "version": "3.9.7"
  }
 },
 "nbformat": 4,
 "nbformat_minor": 5
}
