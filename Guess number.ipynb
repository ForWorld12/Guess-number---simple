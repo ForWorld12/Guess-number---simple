{
 "cells": [
  {
   "cell_type": "code",
   "execution_count": 2,
   "id": "68550bf5",
   "metadata": {},
   "outputs": [],
   "source": [
    "import random as rn"
   ]
  },
  {
   "cell_type": "code",
   "execution_count": 6,
   "id": "e86b8150",
   "metadata": {},
   "outputs": [
    {
     "name": "stdout",
     "output_type": "stream",
     "text": [
      "guess a number between 1 and 1012\n",
      "nope, sorry. Try Again!\n",
      "guess a number between 1 and 10 4\n",
      "nope, sorry. Try Again!\n",
      "guess a number between 1 and 102\n",
      "nope, sorry. Try Again!\n",
      "guess a number between 1 and 101\n",
      "nope, sorry. Try Again!\n",
      "guess a number between 1 and 105\n",
      "nope, sorry. Try Again!\n",
      "guess a number between 1 and 107\n",
      "nope, sorry. Try Again!\n",
      "guess a number between 1 and 105\n",
      "nope, sorry. Try Again!\n",
      "guess a number between 1 and 105\n",
      "nope, sorry. Try Again!\n",
      "guess a number between 1 and 105\n",
      "nope, sorry. Try Again!\n",
      "guess a number between 1 and 105\n",
      "nope, sorry. Try Again!\n",
      "guess a number between 1 and 105\n",
      "nope, sorry. Try Again!\n",
      "guess a number between 1 and 105\n",
      "nope, sorry. Try Again!\n",
      "guess a number between 1 and 105\n",
      "nope, sorry. Try Again!\n",
      "guess a number between 1 and 105\n",
      "nope, sorry. Try Again!\n",
      "guess a number between 1 and 105\n",
      "nope, sorry. Try Again!\n",
      "guess a number between 1 and 105\n",
      "nope, sorry. Try Again!\n",
      "guess a number between 1 and 105\n",
      "nope, sorry. Try Again!\n",
      "guess a number between 1 and 105\n",
      "nope, sorry. Try Again!\n",
      "guess a number between 1 and 105\n",
      "nope, sorry. Try Again!\n",
      "guess a number between 1 and 105\n",
      "nope, sorry. Try Again!\n",
      "guess a number between 1 and 1010\n",
      "nope, sorry. Try Again!\n",
      "guess a number between 1 and 109\n",
      "nope, sorry. Try Again!\n",
      "guess a number between 1 and 109\n",
      "nope, sorry. Try Again!\n",
      "guess a number between 1 and 107\n",
      "nope, sorry. Try Again!\n",
      "guess a number between 1 and 106\n",
      "congratulations! you won!\n"
     ]
    }
   ],
   "source": [
    "num=rn.randint(1,10)\n",
    "guess= None\n",
    "\n",
    "while guess != num:\n",
    "    guess= input(\"guess a number between 1 and 10\")\n",
    "    guess= int(guess)\n",
    "\n",
    "    if guess == num:\n",
    "        print('congratulations! you won!')\n",
    "        break\n",
    "    else:\n",
    "        print(\"nope, sorry. Try Again!\")"
   ]
  }
 ],
 "metadata": {
  "kernelspec": {
   "display_name": "Python 3 (ipykernel)",
   "language": "python",
   "name": "python3"
  },
  "language_info": {
   "codemirror_mode": {
    "name": "ipython",
    "version": 3
   },
   "file_extension": ".py",
   "mimetype": "text/x-python",
   "name": "python",
   "nbconvert_exporter": "python",
   "pygments_lexer": "ipython3",
   "version": "3.9.7"
  }
 },
 "nbformat": 4,
 "nbformat_minor": 5
}
